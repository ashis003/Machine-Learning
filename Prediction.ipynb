{
  "cells": [
    {
      "cell_type": "markdown",
      "metadata": {
        "id": "view-in-github",
        "colab_type": "text"
      },
      "source": [
        "<a href=\"https://colab.research.google.com/github/ashis003/Machine-Learning/blob/main/Prediction.ipynb\" target=\"_parent\"><img src=\"https://colab.research.google.com/assets/colab-badge.svg\" alt=\"Open In Colab\"/></a>"
      ]
    },
    {
      "cell_type": "markdown",
      "metadata": {
        "id": "uBajLXYrWBlo"
      },
      "source": [
        "Importing all the required packages"
      ]
    },
    {
      "cell_type": "code",
      "execution_count": null,
      "metadata": {
        "colab": {
          "base_uri": "https://localhost:8080/"
        },
        "id": "6M8sEA7t8Gbf",
        "outputId": "693e8a0a-b91f-44f1-a431-f57da2ee46e6"
      },
      "outputs": [
        {
          "name": "stdout",
          "output_type": "stream",
          "text": [
            "Drive already mounted at /content/drive; to attempt to forcibly remount, call drive.mount(\"/content/drive\", force_remount=True).\n"
          ]
        }
      ],
      "source": [
        "from google.colab import drive\n",
        "drive.mount('/content/drive')"
      ]
    },
    {
      "cell_type": "code",
      "execution_count": null,
      "metadata": {
        "id": "VgPd1fjcOKlg"
      },
      "outputs": [],
      "source": [
        "\n",
        "import pandas as pd\n",
        "from sklearn import svm\n",
        "from sklearn.model_selection import GridSearchCV\n",
        "import os\n",
        "import matplotlib.pyplot as plt\n",
        "from skimage.transform import resize\n",
        "from skimage.io import imread\n",
        "import numpy as np\n",
        "from sklearn.model_selection import train_test_split\n",
        "from sklearn.metrics import classification_report,accuracy_score,confusion_matrix\n",
        "import pickle\n",
        "\n"
      ]
    },
    {
      "cell_type": "markdown",
      "metadata": {
        "id": "i8zhtW8yz34D"
      },
      "source": [
        "**NOTE** : Please enter Category Names same as folder name"
      ]
    },
    {
      "cell_type": "code",
      "execution_count": null,
      "metadata": {
        "colab": {
          "base_uri": "https://localhost:8080/"
        },
        "id": "umZtNj4CTllG",
        "outputId": "b86547af-89f5-4db0-fcdb-b6d08f45b54d"
      },
      "outputs": [
        {
          "name": "stdout",
          "output_type": "stream",
          "text": [
            "Type y to give categories or type n to go with classification of Cars,Ice Cream cone and Cricket ball\n",
            "y\n",
            "Enter How Many types of Images do you want to classify\n",
            "3\n",
            "please enter 3 names\n",
            "Cars\n",
            "Cricket ball\n",
            "Ice cream cone\n",
            "If not drive Please upload all the 3 category images in google collab with the same names as given in categories\n"
          ]
        }
      ],
      "source": [
        "Categories=['Cars','Ice cream cone','Cricket ball']\n",
        "print(\"Type y to give categories or type n to go with classification of Cars,Ice Cream cone and Cricket ball\");\n",
        "\n",
        "while(True):\n",
        "  check=input()\n",
        "  if(check=='n' or check=='y'):\n",
        "    break\n",
        "  print(\"Please give a valid input (y/n)\")\n",
        "if(check=='y'):\n",
        "  print(\"Enter How Many types of Images do you want to classify\")\n",
        "  n=int(input())\n",
        "  Categories=[]\n",
        "  print(f'please enter {n} names')\n",
        "  for i in range(n):\n",
        "    name=input()\n",
        "    Categories.append(name)\n",
        "  print(f\"If not drive Please upload all the {n} category images in google collab with the same names as given in categories\")\n",
        "\n"
      ]
    },
    {
      "cell_type": "markdown",
      "metadata": {
        "id": "0wwiPscqYune"
      },
      "source": [
        "Loading all the images and creating a DataFrame\n",
        "\n",
        "If you have your images in your google drive, simply mount the google Drive and copy the path of the folder containing all the Category images and Change the datadir variable to that path"
      ]
    },
    {
      "cell_type": "code",
      "execution_count": null,
      "metadata": {
        "colab": {
          "base_uri": "https://localhost:8080/",
          "height": 592
        },
        "id": "XdGD-XpMYUjJ",
        "outputId": "57e5f998-f403-481d-d048-67ca70f660e0"
      },
      "outputs": [
        {
          "name": "stdout",
          "output_type": "stream",
          "text": [
            "loading... category : Cars\n",
            "loaded category:Cars successfully\n",
            "loading... category : Cricket ball\n",
            "loaded category:Cricket ball successfully\n",
            "loading... category : Ice cream cone\n",
            "loaded category:Ice cream cone successfully\n"
          ]
        },
        {
          "data": {
            "text/html": [
              "\n",
              "  <div id=\"df-38173fd4-4b94-452f-b6ca-51af71cd1c3a\">\n",
              "    <div class=\"colab-df-container\">\n",
              "      <div>\n",
              "<style scoped>\n",
              "    .dataframe tbody tr th:only-of-type {\n",
              "        vertical-align: middle;\n",
              "    }\n",
              "\n",
              "    .dataframe tbody tr th {\n",
              "        vertical-align: top;\n",
              "    }\n",
              "\n",
              "    .dataframe thead th {\n",
              "        text-align: right;\n",
              "    }\n",
              "</style>\n",
              "<table border=\"1\" class=\"dataframe\">\n",
              "  <thead>\n",
              "    <tr style=\"text-align: right;\">\n",
              "      <th></th>\n",
              "      <th>0</th>\n",
              "      <th>1</th>\n",
              "      <th>2</th>\n",
              "      <th>3</th>\n",
              "      <th>4</th>\n",
              "      <th>5</th>\n",
              "      <th>6</th>\n",
              "      <th>7</th>\n",
              "      <th>8</th>\n",
              "      <th>9</th>\n",
              "      <th>...</th>\n",
              "      <th>67491</th>\n",
              "      <th>67492</th>\n",
              "      <th>67493</th>\n",
              "      <th>67494</th>\n",
              "      <th>67495</th>\n",
              "      <th>67496</th>\n",
              "      <th>67497</th>\n",
              "      <th>67498</th>\n",
              "      <th>67499</th>\n",
              "      <th>Target</th>\n",
              "    </tr>\n",
              "  </thead>\n",
              "  <tbody>\n",
              "    <tr>\n",
              "      <th>0</th>\n",
              "      <td>0.270588</td>\n",
              "      <td>0.266667</td>\n",
              "      <td>0.262745</td>\n",
              "      <td>0.274510</td>\n",
              "      <td>0.270588</td>\n",
              "      <td>0.258824</td>\n",
              "      <td>0.278431</td>\n",
              "      <td>0.267320</td>\n",
              "      <td>0.254902</td>\n",
              "      <td>0.282353</td>\n",
              "      <td>...</td>\n",
              "      <td>0.514706</td>\n",
              "      <td>0.491503</td>\n",
              "      <td>0.479739</td>\n",
              "      <td>0.530719</td>\n",
              "      <td>0.507190</td>\n",
              "      <td>0.503072</td>\n",
              "      <td>0.498627</td>\n",
              "      <td>0.475098</td>\n",
              "      <td>0.474183</td>\n",
              "      <td>0</td>\n",
              "    </tr>\n",
              "    <tr>\n",
              "      <th>1</th>\n",
              "      <td>0.843137</td>\n",
              "      <td>0.843137</td>\n",
              "      <td>0.835294</td>\n",
              "      <td>0.850980</td>\n",
              "      <td>0.850980</td>\n",
              "      <td>0.843137</td>\n",
              "      <td>0.858824</td>\n",
              "      <td>0.858824</td>\n",
              "      <td>0.847240</td>\n",
              "      <td>0.866013</td>\n",
              "      <td>...</td>\n",
              "      <td>0.204394</td>\n",
              "      <td>0.117647</td>\n",
              "      <td>0.042052</td>\n",
              "      <td>0.201418</td>\n",
              "      <td>0.119608</td>\n",
              "      <td>0.050980</td>\n",
              "      <td>0.198734</td>\n",
              "      <td>0.125490</td>\n",
              "      <td>0.078431</td>\n",
              "      <td>0</td>\n",
              "    </tr>\n",
              "    <tr>\n",
              "      <th>2</th>\n",
              "      <td>0.038902</td>\n",
              "      <td>0.036261</td>\n",
              "      <td>0.041542</td>\n",
              "      <td>0.055896</td>\n",
              "      <td>0.062380</td>\n",
              "      <td>0.061085</td>\n",
              "      <td>0.043841</td>\n",
              "      <td>0.056535</td>\n",
              "      <td>0.053973</td>\n",
              "      <td>0.047558</td>\n",
              "      <td>...</td>\n",
              "      <td>0.000000</td>\n",
              "      <td>0.000000</td>\n",
              "      <td>0.000000</td>\n",
              "      <td>0.000000</td>\n",
              "      <td>0.000000</td>\n",
              "      <td>0.000000</td>\n",
              "      <td>0.000000</td>\n",
              "      <td>0.000000</td>\n",
              "      <td>0.000000</td>\n",
              "      <td>0</td>\n",
              "    </tr>\n",
              "    <tr>\n",
              "      <th>3</th>\n",
              "      <td>1.000000</td>\n",
              "      <td>1.000000</td>\n",
              "      <td>1.000000</td>\n",
              "      <td>1.000000</td>\n",
              "      <td>1.000000</td>\n",
              "      <td>1.000000</td>\n",
              "      <td>1.000000</td>\n",
              "      <td>1.000000</td>\n",
              "      <td>1.000000</td>\n",
              "      <td>1.000000</td>\n",
              "      <td>...</td>\n",
              "      <td>1.000000</td>\n",
              "      <td>1.000000</td>\n",
              "      <td>1.000000</td>\n",
              "      <td>1.000000</td>\n",
              "      <td>1.000000</td>\n",
              "      <td>1.000000</td>\n",
              "      <td>1.000000</td>\n",
              "      <td>1.000000</td>\n",
              "      <td>1.000000</td>\n",
              "      <td>0</td>\n",
              "    </tr>\n",
              "    <tr>\n",
              "      <th>4</th>\n",
              "      <td>0.492105</td>\n",
              "      <td>0.601908</td>\n",
              "      <td>0.637203</td>\n",
              "      <td>0.499948</td>\n",
              "      <td>0.601908</td>\n",
              "      <td>0.637203</td>\n",
              "      <td>0.507791</td>\n",
              "      <td>0.601908</td>\n",
              "      <td>0.641124</td>\n",
              "      <td>0.507791</td>\n",
              "      <td>...</td>\n",
              "      <td>0.525490</td>\n",
              "      <td>0.415686</td>\n",
              "      <td>0.288288</td>\n",
              "      <td>0.519660</td>\n",
              "      <td>0.415686</td>\n",
              "      <td>0.290196</td>\n",
              "      <td>0.517647</td>\n",
              "      <td>0.411765</td>\n",
              "      <td>0.290196</td>\n",
              "      <td>0</td>\n",
              "    </tr>\n",
              "    <tr>\n",
              "      <th>...</th>\n",
              "      <td>...</td>\n",
              "      <td>...</td>\n",
              "      <td>...</td>\n",
              "      <td>...</td>\n",
              "      <td>...</td>\n",
              "      <td>...</td>\n",
              "      <td>...</td>\n",
              "      <td>...</td>\n",
              "      <td>...</td>\n",
              "      <td>...</td>\n",
              "      <td>...</td>\n",
              "      <td>...</td>\n",
              "      <td>...</td>\n",
              "      <td>...</td>\n",
              "      <td>...</td>\n",
              "      <td>...</td>\n",
              "      <td>...</td>\n",
              "      <td>...</td>\n",
              "      <td>...</td>\n",
              "      <td>...</td>\n",
              "      <td>...</td>\n",
              "    </tr>\n",
              "    <tr>\n",
              "      <th>95</th>\n",
              "      <td>0.964706</td>\n",
              "      <td>0.968627</td>\n",
              "      <td>0.937255</td>\n",
              "      <td>0.964706</td>\n",
              "      <td>0.968627</td>\n",
              "      <td>0.937255</td>\n",
              "      <td>0.964706</td>\n",
              "      <td>0.968627</td>\n",
              "      <td>0.937255</td>\n",
              "      <td>0.964706</td>\n",
              "      <td>...</td>\n",
              "      <td>0.959804</td>\n",
              "      <td>0.935049</td>\n",
              "      <td>0.902696</td>\n",
              "      <td>0.960784</td>\n",
              "      <td>0.935294</td>\n",
              "      <td>0.902941</td>\n",
              "      <td>0.964461</td>\n",
              "      <td>0.937500</td>\n",
              "      <td>0.905882</td>\n",
              "      <td>2</td>\n",
              "    </tr>\n",
              "    <tr>\n",
              "      <th>96</th>\n",
              "      <td>0.996078</td>\n",
              "      <td>0.996078</td>\n",
              "      <td>0.996078</td>\n",
              "      <td>0.996078</td>\n",
              "      <td>0.996078</td>\n",
              "      <td>0.996078</td>\n",
              "      <td>0.996078</td>\n",
              "      <td>0.996078</td>\n",
              "      <td>0.996078</td>\n",
              "      <td>0.996078</td>\n",
              "      <td>...</td>\n",
              "      <td>0.996078</td>\n",
              "      <td>0.996078</td>\n",
              "      <td>0.996078</td>\n",
              "      <td>0.996078</td>\n",
              "      <td>0.996078</td>\n",
              "      <td>0.996078</td>\n",
              "      <td>0.996078</td>\n",
              "      <td>0.996078</td>\n",
              "      <td>0.996078</td>\n",
              "      <td>2</td>\n",
              "    </tr>\n",
              "    <tr>\n",
              "      <th>97</th>\n",
              "      <td>1.000000</td>\n",
              "      <td>1.000000</td>\n",
              "      <td>1.000000</td>\n",
              "      <td>1.000000</td>\n",
              "      <td>1.000000</td>\n",
              "      <td>1.000000</td>\n",
              "      <td>1.000000</td>\n",
              "      <td>1.000000</td>\n",
              "      <td>1.000000</td>\n",
              "      <td>1.000000</td>\n",
              "      <td>...</td>\n",
              "      <td>1.000000</td>\n",
              "      <td>1.000000</td>\n",
              "      <td>1.000000</td>\n",
              "      <td>1.000000</td>\n",
              "      <td>1.000000</td>\n",
              "      <td>1.000000</td>\n",
              "      <td>1.000000</td>\n",
              "      <td>1.000000</td>\n",
              "      <td>1.000000</td>\n",
              "      <td>2</td>\n",
              "    </tr>\n",
              "    <tr>\n",
              "      <th>98</th>\n",
              "      <td>0.929412</td>\n",
              "      <td>0.945098</td>\n",
              "      <td>0.956863</td>\n",
              "      <td>0.929412</td>\n",
              "      <td>0.945098</td>\n",
              "      <td>0.956863</td>\n",
              "      <td>0.929412</td>\n",
              "      <td>0.945098</td>\n",
              "      <td>0.956863</td>\n",
              "      <td>0.933333</td>\n",
              "      <td>...</td>\n",
              "      <td>0.843137</td>\n",
              "      <td>0.826471</td>\n",
              "      <td>0.826471</td>\n",
              "      <td>0.839216</td>\n",
              "      <td>0.823529</td>\n",
              "      <td>0.815586</td>\n",
              "      <td>0.839216</td>\n",
              "      <td>0.823529</td>\n",
              "      <td>0.811098</td>\n",
              "      <td>2</td>\n",
              "    </tr>\n",
              "    <tr>\n",
              "      <th>99</th>\n",
              "      <td>1.000000</td>\n",
              "      <td>1.000000</td>\n",
              "      <td>1.000000</td>\n",
              "      <td>1.000000</td>\n",
              "      <td>1.000000</td>\n",
              "      <td>1.000000</td>\n",
              "      <td>1.000000</td>\n",
              "      <td>1.000000</td>\n",
              "      <td>1.000000</td>\n",
              "      <td>1.000000</td>\n",
              "      <td>...</td>\n",
              "      <td>1.000000</td>\n",
              "      <td>1.000000</td>\n",
              "      <td>1.000000</td>\n",
              "      <td>1.000000</td>\n",
              "      <td>1.000000</td>\n",
              "      <td>1.000000</td>\n",
              "      <td>1.000000</td>\n",
              "      <td>1.000000</td>\n",
              "      <td>1.000000</td>\n",
              "      <td>2</td>\n",
              "    </tr>\n",
              "  </tbody>\n",
              "</table>\n",
              "<p>100 rows × 67501 columns</p>\n",
              "</div>\n",
              "      <button class=\"colab-df-convert\" onclick=\"convertToInteractive('df-38173fd4-4b94-452f-b6ca-51af71cd1c3a')\"\n",
              "              title=\"Convert this dataframe to an interactive table.\"\n",
              "              style=\"display:none;\">\n",
              "        \n",
              "  <svg xmlns=\"http://www.w3.org/2000/svg\" height=\"24px\"viewBox=\"0 0 24 24\"\n",
              "       width=\"24px\">\n",
              "    <path d=\"M0 0h24v24H0V0z\" fill=\"none\"/>\n",
              "    <path d=\"M18.56 5.44l.94 2.06.94-2.06 2.06-.94-2.06-.94-.94-2.06-.94 2.06-2.06.94zm-11 1L8.5 8.5l.94-2.06 2.06-.94-2.06-.94L8.5 2.5l-.94 2.06-2.06.94zm10 10l.94 2.06.94-2.06 2.06-.94-2.06-.94-.94-2.06-.94 2.06-2.06.94z\"/><path d=\"M17.41 7.96l-1.37-1.37c-.4-.4-.92-.59-1.43-.59-.52 0-1.04.2-1.43.59L10.3 9.45l-7.72 7.72c-.78.78-.78 2.05 0 2.83L4 21.41c.39.39.9.59 1.41.59.51 0 1.02-.2 1.41-.59l7.78-7.78 2.81-2.81c.8-.78.8-2.07 0-2.86zM5.41 20L4 18.59l7.72-7.72 1.47 1.35L5.41 20z\"/>\n",
              "  </svg>\n",
              "      </button>\n",
              "      \n",
              "  <style>\n",
              "    .colab-df-container {\n",
              "      display:flex;\n",
              "      flex-wrap:wrap;\n",
              "      gap: 12px;\n",
              "    }\n",
              "\n",
              "    .colab-df-convert {\n",
              "      background-color: #E8F0FE;\n",
              "      border: none;\n",
              "      border-radius: 50%;\n",
              "      cursor: pointer;\n",
              "      display: none;\n",
              "      fill: #1967D2;\n",
              "      height: 32px;\n",
              "      padding: 0 0 0 0;\n",
              "      width: 32px;\n",
              "    }\n",
              "\n",
              "    .colab-df-convert:hover {\n",
              "      background-color: #E2EBFA;\n",
              "      box-shadow: 0px 1px 2px rgba(60, 64, 67, 0.3), 0px 1px 3px 1px rgba(60, 64, 67, 0.15);\n",
              "      fill: #174EA6;\n",
              "    }\n",
              "\n",
              "    [theme=dark] .colab-df-convert {\n",
              "      background-color: #3B4455;\n",
              "      fill: #D2E3FC;\n",
              "    }\n",
              "\n",
              "    [theme=dark] .colab-df-convert:hover {\n",
              "      background-color: #434B5C;\n",
              "      box-shadow: 0px 1px 3px 1px rgba(0, 0, 0, 0.15);\n",
              "      filter: drop-shadow(0px 1px 2px rgba(0, 0, 0, 0.3));\n",
              "      fill: #FFFFFF;\n",
              "    }\n",
              "  </style>\n",
              "\n",
              "      <script>\n",
              "        const buttonEl =\n",
              "          document.querySelector('#df-38173fd4-4b94-452f-b6ca-51af71cd1c3a button.colab-df-convert');\n",
              "        buttonEl.style.display =\n",
              "          google.colab.kernel.accessAllowed ? 'block' : 'none';\n",
              "\n",
              "        async function convertToInteractive(key) {\n",
              "          const element = document.querySelector('#df-38173fd4-4b94-452f-b6ca-51af71cd1c3a');\n",
              "          const dataTable =\n",
              "            await google.colab.kernel.invokeFunction('convertToInteractive',\n",
              "                                                     [key], {});\n",
              "          if (!dataTable) return;\n",
              "\n",
              "          const docLinkHtml = 'Like what you see? Visit the ' +\n",
              "            '<a target=\"_blank\" href=https://colab.research.google.com/notebooks/data_table.ipynb>data table notebook</a>'\n",
              "            + ' to learn more about interactive tables.';\n",
              "          element.innerHTML = '';\n",
              "          dataTable['output_type'] = 'display_data';\n",
              "          await google.colab.output.renderOutput(dataTable, element);\n",
              "          const docLink = document.createElement('div');\n",
              "          docLink.innerHTML = docLinkHtml;\n",
              "          element.appendChild(docLink);\n",
              "        }\n",
              "      </script>\n",
              "    </div>\n",
              "  </div>\n",
              "  "
            ],
            "text/plain": [
              "           0         1         2         3         4         5         6  \\\n",
              "0   0.270588  0.266667  0.262745  0.274510  0.270588  0.258824  0.278431   \n",
              "1   0.843137  0.843137  0.835294  0.850980  0.850980  0.843137  0.858824   \n",
              "2   0.038902  0.036261  0.041542  0.055896  0.062380  0.061085  0.043841   \n",
              "3   1.000000  1.000000  1.000000  1.000000  1.000000  1.000000  1.000000   \n",
              "4   0.492105  0.601908  0.637203  0.499948  0.601908  0.637203  0.507791   \n",
              "..       ...       ...       ...       ...       ...       ...       ...   \n",
              "95  0.964706  0.968627  0.937255  0.964706  0.968627  0.937255  0.964706   \n",
              "96  0.996078  0.996078  0.996078  0.996078  0.996078  0.996078  0.996078   \n",
              "97  1.000000  1.000000  1.000000  1.000000  1.000000  1.000000  1.000000   \n",
              "98  0.929412  0.945098  0.956863  0.929412  0.945098  0.956863  0.929412   \n",
              "99  1.000000  1.000000  1.000000  1.000000  1.000000  1.000000  1.000000   \n",
              "\n",
              "           7         8         9  ...     67491     67492     67493     67494  \\\n",
              "0   0.267320  0.254902  0.282353  ...  0.514706  0.491503  0.479739  0.530719   \n",
              "1   0.858824  0.847240  0.866013  ...  0.204394  0.117647  0.042052  0.201418   \n",
              "2   0.056535  0.053973  0.047558  ...  0.000000  0.000000  0.000000  0.000000   \n",
              "3   1.000000  1.000000  1.000000  ...  1.000000  1.000000  1.000000  1.000000   \n",
              "4   0.601908  0.641124  0.507791  ...  0.525490  0.415686  0.288288  0.519660   \n",
              "..       ...       ...       ...  ...       ...       ...       ...       ...   \n",
              "95  0.968627  0.937255  0.964706  ...  0.959804  0.935049  0.902696  0.960784   \n",
              "96  0.996078  0.996078  0.996078  ...  0.996078  0.996078  0.996078  0.996078   \n",
              "97  1.000000  1.000000  1.000000  ...  1.000000  1.000000  1.000000  1.000000   \n",
              "98  0.945098  0.956863  0.933333  ...  0.843137  0.826471  0.826471  0.839216   \n",
              "99  1.000000  1.000000  1.000000  ...  1.000000  1.000000  1.000000  1.000000   \n",
              "\n",
              "       67495     67496     67497     67498     67499  Target  \n",
              "0   0.507190  0.503072  0.498627  0.475098  0.474183       0  \n",
              "1   0.119608  0.050980  0.198734  0.125490  0.078431       0  \n",
              "2   0.000000  0.000000  0.000000  0.000000  0.000000       0  \n",
              "3   1.000000  1.000000  1.000000  1.000000  1.000000       0  \n",
              "4   0.415686  0.290196  0.517647  0.411765  0.290196       0  \n",
              "..       ...       ...       ...       ...       ...     ...  \n",
              "95  0.935294  0.902941  0.964461  0.937500  0.905882       2  \n",
              "96  0.996078  0.996078  0.996078  0.996078  0.996078       2  \n",
              "97  1.000000  1.000000  1.000000  1.000000  1.000000       2  \n",
              "98  0.823529  0.815586  0.839216  0.823529  0.811098       2  \n",
              "99  1.000000  1.000000  1.000000  1.000000  1.000000       2  \n",
              "\n",
              "[100 rows x 67501 columns]"
            ]
          },
          "execution_count": 25,
          "metadata": {},
          "output_type": "execute_result"
        }
      ],
      "source": [
        "flat_data_arr=[]\n",
        "target_arr=[]\n",
        "#please use datadir='/content' if the files are upload on to google collab\n",
        "#else mount the drive and give path of the parent-folder containing all category images folders.\n",
        "datadir='/content/drive/MyDrive/ML'\n",
        "for i in Categories:\n",
        "  print(f'loading... category : {i}')\n",
        "  path=os.path.join(datadir,i)\n",
        "  for img in os.listdir(path):\n",
        "    img_array=imread(os.path.join(path,img))\n",
        "    img_resized=resize(img_array,(150,150,3))\n",
        "    flat_data_arr.append(img_resized.flatten())\n",
        "    target_arr.append(Categories.index(i))\n",
        "  print(f'loaded category:{i} successfully')\n",
        "flat_data=np.array(flat_data_arr)\n",
        "target=np.array(target_arr)\n",
        "df=pd.DataFrame(flat_data)\n",
        "df['Target']=target\n",
        "df"
      ]
    },
    {
      "cell_type": "markdown",
      "metadata": {
        "id": "gUp5FDqIY070"
      },
      "source": [
        "Splitting the data into training and testing data"
      ]
    },
    {
      "cell_type": "code",
      "execution_count": null,
      "metadata": {
        "colab": {
          "base_uri": "https://localhost:8080/"
        },
        "id": "Jg3XHRP3OUyf",
        "outputId": "56304900-2de7-4793-f16c-d69198b7cdd1"
      },
      "outputs": [
        {
          "name": "stdout",
          "output_type": "stream",
          "text": [
            "Splitted Successfully\n"
          ]
        }
      ],
      "source": [
        "x=df.iloc[:,:-1]\n",
        "y=df.iloc[:,-1]\n",
        "x_train,x_test,y_train,y_test=train_test_split(x,y,test_size=0.20,random_state=77,stratify=y)\n",
        "print('Splitted Successfully')"
      ]
    },
    {
      "cell_type": "markdown",
      "metadata": {
        "id": "YMmSZWDJY_eE"
      },
      "source": [
        "This Part of code may take a while for training the data using SVC model"
      ]
    },
    {
      "cell_type": "code",
      "execution_count": null,
      "metadata": {
        "colab": {
          "base_uri": "https://localhost:8080/"
        },
        "id": "DIaIT2GlOvy6",
        "outputId": "e9b22c32-0038-42fd-8c5e-733732c9b889"
      },
      "outputs": [
        {
          "name": "stdout",
          "output_type": "stream",
          "text": [
            "The training of the model is started, please wait for while as it may take few minutes to complete\n",
            "The Model is trained well with the given images\n"
          ]
        },
        {
          "data": {
            "text/plain": [
              "{'C': 10, 'gamma': 0.0001, 'kernel': 'rbf'}"
            ]
          },
          "execution_count": 27,
          "metadata": {},
          "output_type": "execute_result"
        }
      ],
      "source": [
        "param_grid={'C':[0.1,1,10,100],'gamma':[0.0001,0.001,0.1,1],'kernel':['rbf','poly']}\n",
        "svc=svm.SVC(probability=True)\n",
        "print(\"The training of the model is started, please wait for while as it may take few minutes to complete\")\n",
        "model=GridSearchCV(svc,param_grid)\n",
        "model.fit(x_train,y_train)\n",
        "print('The Model is trained well with the given images')\n",
        "model.best_params_"
      ]
    },
    {
      "cell_type": "markdown",
      "metadata": {
        "id": "VWKN2_4eZZmF"
      },
      "source": [
        "Predicting our testing data"
      ]
    },
    {
      "cell_type": "code",
      "execution_count": null,
      "metadata": {
        "colab": {
          "base_uri": "https://localhost:8080/"
        },
        "id": "h7qEbNLoSAcS",
        "outputId": "3885369a-c26a-46a8-d484-2f1dfabf3857"
      },
      "outputs": [
        {
          "name": "stdout",
          "output_type": "stream",
          "text": [
            "The predicted Data is :\n"
          ]
        },
        {
          "data": {
            "text/plain": [
              "array([0, 0, 2, 2, 0, 1, 1, 2, 0, 1, 2, 1, 0, 1, 2, 0, 0, 0, 1, 1])"
            ]
          },
          "execution_count": 28,
          "metadata": {},
          "output_type": "execute_result"
        }
      ],
      "source": [
        "y_pred=model.predict(x_test)\n",
        "print(\"The predicted Data is :\")\n",
        "y_pred"
      ]
    },
    {
      "cell_type": "code",
      "execution_count": null,
      "metadata": {
        "colab": {
          "base_uri": "https://localhost:8080/"
        },
        "id": "A4rMJQ0HSCgU",
        "outputId": "003dde75-eb09-4228-858c-a26e0077194a"
      },
      "outputs": [
        {
          "name": "stdout",
          "output_type": "stream",
          "text": [
            "The actual data is:\n"
          ]
        },
        {
          "data": {
            "text/plain": [
              "array([0, 0, 2, 2, 0, 1, 1, 2, 0, 1, 2, 2, 0, 1, 2, 0, 0, 0, 1, 1])"
            ]
          },
          "execution_count": 29,
          "metadata": {},
          "output_type": "execute_result"
        }
      ],
      "source": [
        "print(\"The actual data is:\")\n",
        "np.array(y_test)"
      ]
    },
    {
      "cell_type": "code",
      "execution_count": null,
      "metadata": {
        "colab": {
          "base_uri": "https://localhost:8080/"
        },
        "id": "ZwXKKc5FSFMf",
        "outputId": "727268ba-1032-45a1-975c-bf5ce03720d5"
      },
      "outputs": [
        {
          "name": "stdout",
          "output_type": "stream",
          "text": [
            "The model is 95.0% accurate\n"
          ]
        }
      ],
      "source": [
        "#classification_report(y_pred,y_test)\n",
        "print(f\"The model is {accuracy_score(y_pred,y_test)*100}% accurate\")\n",
        "#confusion_matrix(y_pred,y_test)"
      ]
    },
    {
      "cell_type": "markdown",
      "metadata": {
        "id": "B8rpwj-yX4hl"
      },
      "source": [
        "Using Pickle to save the model to disk"
      ]
    },
    {
      "cell_type": "code",
      "execution_count": null,
      "metadata": {
        "colab": {
          "base_uri": "https://localhost:8080/"
        },
        "id": "Jf8xp5BYp_7E",
        "outputId": "d43e00c1-86a8-4e68-dfbc-a8f8383113c7"
      },
      "outputs": [
        {
          "name": "stdout",
          "output_type": "stream",
          "text": [
            "Pickle is dumped successfully\n"
          ]
        }
      ],
      "source": [
        "pickle.dump(model,open('img_model.p','wb'))\n",
        "print(\"Pickle is dumped successfully\")"
      ]
    },
    {
      "cell_type": "markdown",
      "metadata": {
        "id": "D5j6KOPCZ8av"
      },
      "source": [
        "The Machine-Learning Based Model is Created Successfully. Now You can test for classification of any image which falls in the mentioned Categories\n",
        "\n",
        "Testing of model :"
      ]
    },
    {
      "cell_type": "code",
      "execution_count": null,
      "metadata": {
        "colab": {
          "background_save": true,
          "base_uri": "https://localhost:8080/",
          "height": 392
        },
        "id": "6MVmsPLdS6-X",
        "outputId": "bb6a21ab-5e2f-4d47-850a-7454fbb47946"
      },
      "outputs": [
        {
          "data": {
            "image/png": "[encoded data removed]",
            "text/plain": [
              "<Figure size 432x288 with 1 Axes>"
            ]
          },
          "metadata": {},
          "output_type": "display_data"
        },
        {
          "name": "stdout",
          "output_type": "stream",
          "text": [
            "Cars = 7.899953599264705%\n",
            "Cricket ball = 89.7687204418459%\n",
            "Ice cream cone = 2.3313259588894004%\n",
            "The predicted image is : Cricket ball\n",
            "Is the image a Cricket ball ?(y/n)\n"
          ]
        }
      ],
      "source": [
        "#print(os.path.abspath(os.getcwd()))\n",
        "model=pickle.load(open('img_model.p','rb'))\n",
        "\n",
        "url=input('Enter URL of Image')\n",
        "img=imread(url)\n",
        "plt.imshow(img)\n",
        "plt.show()\n",
        "img_resize=resize(img,(150,150,3))\n",
        "l=[img_resize.flatten()]\n",
        "probability=model.predict_proba(l)\n",
        "for ind,val in enumerate(Categories):\n",
        "  print(f'{val} = {probability[0][ind]*100}%')\n",
        "print(\"The predicted image is : \"+Categories[model.predict(l)[0]])\n",
        "print(f'Is the image a {Categories[model.predict(l)[0]]} ?(y/n)')\n",
        "while(True):\n",
        "  b=input()\n",
        "  if(b==\"y\" or b==\"n\"):\n",
        "    break\n",
        "  print(\"please enter either y or n\")\n",
        "\n",
        "if(b=='n'):\n",
        "  print(\"What is the image?\")\n",
        "  for i in range(len(Categories)):\n",
        "    print(f\"Enter {i} for {Categories[i]}\")\n",
        "  k=int(input())\n",
        "  while(k<0 or k>=len(Categories)):\n",
        "    print(f\"Please enter a valid number between 0-{len(Categories)-1}\")\n",
        "    k=int(input())\n",
        "  print(\"Please wait for a while for the model to learn from this image :)\")\n",
        "  flat_arr=flat_data_arr.copy()\n",
        "  tar_arr=target_arr.copy()\n",
        "  tar_arr.append(k)\n",
        "  flat_arr.extend(l)\n",
        "  tar_arr=np.array(tar_arr)\n",
        "  flat_df=np.array(flat_arr)\n",
        "  df1=pd.DataFrame(flat_df)\n",
        "  df1['Target']=tar_arr\n",
        "  model1=GridSearchCV(svc,param_grid)\n",
        "  x1=df1.iloc[:,:-1]\n",
        "  y1=df1.iloc[:,-1]\n",
        "  x_train1,x_test1,y_train1,y_test1=train_test_split(x1,y1,test_size=0.20,random_state=77,stratify=y1)\n",
        "  d={}\n",
        "  for i in model.best_params_:\n",
        "    d[i]=[model.best_params_[i]]\n",
        "  model1=GridSearchCV(svc,d)\n",
        "  model1.fit(x_train1,y_train1)\n",
        "  y_pred1=model.predict(x_test1)\n",
        "  print(f\"The model is now {accuracy_score(y_pred1,y_test1)*100}% accurate\")\n",
        "  pickle.dump(model1,open('img_model.p','wb'))\n",
        "print(\"Thank you for your feedback\")\n"
      ]
    },
    {
      "cell_type": "markdown",
      "metadata": {
        "id": "fJ_t-zqIsTCA"
      },
      "source": [
        "This model learns from its mistake and rectifies them and does not repeat the same mistake again ;)"
      ]
    }
  ],
  "metadata": {
    "colab": {
      "provenance": [],
      "include_colab_link": true
    },
    "kernelspec": {
      "display_name": "Python 3",
      "name": "python3"
    }
  },
  "nbformat": 4,
  "nbformat_minor": 0
}