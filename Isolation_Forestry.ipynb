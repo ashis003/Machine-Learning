{
  "nbformat": 4,
  "nbformat_minor": 0,
  "metadata": {
    "colab": {
      "provenance": [],
      "authorship_tag": "ABX9TyMGV7X/RNym+UdQ3kdn5Xll",
      "include_colab_link": true
    },
    "kernelspec": {
      "name": "python3",
      "display_name": "Python 3"
    },
    "language_info": {
      "name": "python"
    }
  },
  "cells": [
    {
      "cell_type": "markdown",
      "metadata": {
        "id": "view-in-github",
        "colab_type": "text"
      },
      "source": [
        "<a href=\"https://colab.research.google.com/github/ashis003/Machine-Learning/blob/main/Isolation_Forestry.ipynb\" target=\"_parent\"><img src=\"https://colab.research.google.com/assets/colab-badge.svg\" alt=\"Open In Colab\"/></a>"
      ]
    },
    {
      "cell_type": "code",
      "execution_count": 2,
      "metadata": {
        "colab": {
          "base_uri": "https://localhost:8080/"
        },
        "id": "3qd1DkRZlJ1K",
        "outputId": "c43caee7-39ef-488a-ceb7-211b4ed8162d"
      },
      "outputs": [
        {
          "output_type": "stream",
          "name": "stdout",
          "text": [
            "Anomaly Scores:\n",
            "Over No 1 :  0.2722718066270788\n",
            "Over No 2 :  0.2573166146354828\n",
            "Over No 3 :  0.0775114989860114\n",
            "Over No 4 :  0.23469556554884474\n",
            "Over No 5 :  -0.11626724847901704\n",
            "Over No 6 :  0.2722718066270788\n",
            "Over No 7 :  0.23469556554884474\n"
          ]
        }
      ],
      "source": [
        "#avg. depth of tree for a specific sample.\n",
        "from sklearn.ensemble import IsolationForest\n",
        "isolation_forest = IsolationForest(n_estimators=100, contamination=0.1)\n",
        "X = [[11], [12], [3], [15], [100], [11], [15]]\n",
        "isolation_forest.fit(X)\n",
        "anomaly_scores = isolation_forest.decision_function(X)\n",
        "print(\"Anomaly Scores:\")\n",
        "for i, score in enumerate(anomaly_scores):\n",
        "    print(\"Over No\",i+1,\": \",score)"
      ]
    }
  ]
}